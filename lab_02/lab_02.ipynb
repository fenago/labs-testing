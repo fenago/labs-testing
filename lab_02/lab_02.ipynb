{
 "cells": [
  {
   "cell_type": "code",
   "execution_count": 1,
   "metadata": {},
   "outputs": [
    {
     "name": "stderr",
     "output_type": "stream",
     "text": [
      "C:\\Users\\pc\\Anaconda3\\lib\\site-packages\\numpy\\_distributor_init.py:32: UserWarning: loaded more than 1 DLL from .libs:\n",
      "C:\\Users\\pc\\Anaconda3\\lib\\site-packages\\numpy\\.libs\\libopenblas.IPBC74C7KURV7CB2PKT5Z5FNR3SIBV4J.gfortran-win_amd64.dll\n",
      "C:\\Users\\pc\\Anaconda3\\lib\\site-packages\\numpy\\.libs\\libopenblas.PYQHXLVVQ7VESDPUVUADXEVJOBGHJPAY.gfortran-win_amd64.dll\n",
      "  stacklevel=1)\n"
     ]
    }
   ],
   "source": [
    "# Importing packages\n",
    "import numpy as np\n",
    "import pandas as pd\n",
    "import matplotlib.pyplot as plt\n",
    "from scipy import stats"
   ]
  },
  {
   "cell_type": "code",
   "execution_count": 2,
   "metadata": {},
   "outputs": [
    {
     "name": "stdout",
     "output_type": "stream",
     "text": [
      "Mean:  137.14285714285714\n",
      "Median:  134.0\n",
      "Mode:  ModeResult(mode=array([274]), count=array([3]))\n"
     ]
    }
   ],
   "source": [
    "#Using numpy & Scipy to calculate Mean, Median, Mode\n",
    "BP = [150, 123, 134, 170, 146, 124, 113]\n",
    "cholesterol = [274, 366, 327, 274, 292, 274, 230]\n",
    "\n",
    "#Mean blood pressure\n",
    "mean = np.mean(BP)\n",
    "median = np.median(BP)\n",
    "mode = stats.mode(cholesterol)\n",
    "\n",
    "print(\"Mean: \", mean)\n",
    "print(\"Median: \", median)\n",
    "print(\"Mode: \", mode)\n",
    "\n",
    "\n"
   ]
  },
  {
   "cell_type": "code",
   "execution_count": 3,
   "metadata": {},
   "outputs": [
    {
     "name": "stdout",
     "output_type": "stream",
     "text": [
      "134.0 2\n"
     ]
    }
   ],
   "source": [
    "#Using numpy & Scipy to calculate median\n",
    "BP = [150, 123, 134, 170, 146, 124, 113]\n",
    "\n",
    "#Median blood pressure\n",
    "median = np.median(BP)\n",
    "print(np.round(median), 2)"
   ]
  },
  {
   "cell_type": "code",
   "execution_count": 4,
   "metadata": {},
   "outputs": [
    {
     "name": "stdout",
     "output_type": "stream",
     "text": [
      "[274]\n"
     ]
    }
   ],
   "source": [
    "#Using numpy & Scipy to calculate mode\n",
    "cholesterol = [366, 327, 274, 292, 274, 230]\n",
    "\n",
    "mode = stats.mode(cholesterol)\n",
    "print(mode[0])"
   ]
  },
  {
   "cell_type": "code",
   "execution_count": 5,
   "metadata": {},
   "outputs": [],
   "source": [
    "# height and weight of 10 students\n",
    "ht = [5.1, 5.8, 5.11, 4.10, 6.1, 5.4, 5.6, 4.8, 5.2, 6.0]\n",
    "wt = [127, 121, 142, 157, 162, 156, 159, 165, 181, 208]"
   ]
  },
  {
   "cell_type": "code",
   "execution_count": 6,
   "metadata": {},
   "outputs": [
    {
     "name": "stdout",
     "output_type": "stream",
     "text": [
      "<class 'pandas.core.frame.DataFrame'>\n"
     ]
    },
    {
     "data": {
      "text/html": [
       "<div>\n",
       "<style scoped>\n",
       "    .dataframe tbody tr th:only-of-type {\n",
       "        vertical-align: middle;\n",
       "    }\n",
       "\n",
       "    .dataframe tbody tr th {\n",
       "        vertical-align: top;\n",
       "    }\n",
       "\n",
       "    .dataframe thead th {\n",
       "        text-align: right;\n",
       "    }\n",
       "</style>\n",
       "<table border=\"1\" class=\"dataframe\">\n",
       "  <thead>\n",
       "    <tr style=\"text-align: right;\">\n",
       "      <th></th>\n",
       "      <th>height</th>\n",
       "      <th>weight</th>\n",
       "    </tr>\n",
       "  </thead>\n",
       "  <tbody>\n",
       "    <tr>\n",
       "      <th>0</th>\n",
       "      <td>5.10</td>\n",
       "      <td>127</td>\n",
       "    </tr>\n",
       "    <tr>\n",
       "      <th>1</th>\n",
       "      <td>5.80</td>\n",
       "      <td>121</td>\n",
       "    </tr>\n",
       "    <tr>\n",
       "      <th>2</th>\n",
       "      <td>5.11</td>\n",
       "      <td>142</td>\n",
       "    </tr>\n",
       "    <tr>\n",
       "      <th>3</th>\n",
       "      <td>4.10</td>\n",
       "      <td>157</td>\n",
       "    </tr>\n",
       "    <tr>\n",
       "      <th>4</th>\n",
       "      <td>6.10</td>\n",
       "      <td>162</td>\n",
       "    </tr>\n",
       "    <tr>\n",
       "      <th>5</th>\n",
       "      <td>5.40</td>\n",
       "      <td>156</td>\n",
       "    </tr>\n",
       "    <tr>\n",
       "      <th>6</th>\n",
       "      <td>5.60</td>\n",
       "      <td>159</td>\n",
       "    </tr>\n",
       "    <tr>\n",
       "      <th>7</th>\n",
       "      <td>4.80</td>\n",
       "      <td>165</td>\n",
       "    </tr>\n",
       "    <tr>\n",
       "      <th>8</th>\n",
       "      <td>5.20</td>\n",
       "      <td>181</td>\n",
       "    </tr>\n",
       "    <tr>\n",
       "      <th>9</th>\n",
       "      <td>6.00</td>\n",
       "      <td>208</td>\n",
       "    </tr>\n",
       "  </tbody>\n",
       "</table>\n",
       "</div>"
      ],
      "text/plain": [
       "   height  weight\n",
       "0    5.10     127\n",
       "1    5.80     121\n",
       "2    5.11     142\n",
       "3    4.10     157\n",
       "4    6.10     162\n",
       "5    5.40     156\n",
       "6    5.60     159\n",
       "7    4.80     165\n",
       "8    5.20     181\n",
       "9    6.00     208"
      ]
     },
     "execution_count": 6,
     "metadata": {},
     "output_type": "execute_result"
    }
   ],
   "source": [
    "#creating a dictionary using the height and weight lists\n",
    "d = {\"height\": ht, \"weight\": wt}\n",
    "\n",
    "#creating a pandas data frame using dictionaries\n",
    "df = pd.DataFrame(d)\n",
    "\n",
    "print(type(df))\n",
    "df"
   ]
  },
  {
   "cell_type": "code",
   "execution_count": 7,
   "metadata": {},
   "outputs": [
    {
     "name": "stdout",
     "output_type": "stream",
     "text": [
      "sd of height: 0.5702359160908755\n",
      "sd of weight: 23.844496220302076\n"
     ]
    }
   ],
   "source": [
    "# standard deviation of height variable\n",
    "print(\"sd of height:\", np.std(df['height']))\n",
    "\n",
    "# standard deviation of weight variable\n",
    "print(\"sd of weight:\", np.std(df[\"weight\"]))"
   ]
  },
  {
   "cell_type": "code",
   "execution_count": 8,
   "metadata": {},
   "outputs": [
    {
     "name": "stdout",
     "output_type": "stream",
     "text": [
      "Variation in height:  0.325169\n",
      "Variation in weight:  568.5600000000001\n"
     ]
    }
   ],
   "source": [
    "# Variation in height variable\n",
    "print(\"Variation in height: \", np.var(df['height']))\n",
    "\n",
    "# Variation in weight variable\n",
    "print(\"Variation in weight: \", np.var(df[\"weight\"]))"
   ]
  },
  {
   "cell_type": "code",
   "execution_count": 9,
   "metadata": {},
   "outputs": [
    {
     "name": "stdout",
     "output_type": "stream",
     "text": [
      "range of height:  2.0\n",
      "range of weight:  87\n"
     ]
    }
   ],
   "source": [
    "# Range\n",
    "ht_max = np.max(df[\"height\"])\n",
    "ht_min = np.min(df[\"height\"])\n",
    "print(\"range of height: \", (ht_max-ht_min))\n",
    "\n",
    "wt_max = np.max(df[\"weight\"])\n",
    "wt_min = np.min(df[\"weight\"])\n",
    "print(\"range of weight: \", (wt_max-wt_min))"
   ]
  },
  {
   "cell_type": "code",
   "execution_count": 10,
   "metadata": {},
   "outputs": [
    {
     "name": "stdout",
     "output_type": "stream",
     "text": [
      "25th percentile 5.1025\n",
      "50th percentile 5.300000000000001\n",
      "75th percentile 5.75\n"
     ]
    }
   ],
   "source": [
    "# percentile\n",
    "ht_25 = np.percentile(ht, 25)\n",
    "ht_50 = np.percentile(ht, 50)\n",
    "ht_75 = np.percentile(ht, 75)\n",
    "\n",
    "print(\"25th percentile {}\".format(ht_25)) \n",
    "print(\"50th percentile {}\".format(ht_50))\n",
    "print(\"75th percentile {}\".format(ht_75))"
   ]
  },
  {
   "cell_type": "code",
   "execution_count": 11,
   "metadata": {},
   "outputs": [
    {
     "name": "stdout",
     "output_type": "stream",
     "text": [
      "Q1 of weight 145.5\n",
      "Q2 of weight 158.0\n",
      "Q3 of weight 164.25\n",
      "IQR of weight 18.75\n"
     ]
    }
   ],
   "source": [
    "# Quantiles\n",
    "wt_Q1 = np.quantile(wt, .25)\n",
    "wt_Q2 = np.quantile(wt, .50)\n",
    "wt_Q3 = np.quantile(wt, .75)\n",
    "\n",
    "wt_IQR = wt_Q3 - wt_Q1\n",
    "\n",
    "print(\"Q1 of weight\", wt_Q1)\n",
    "print(\"Q2 of weight\", wt_Q2)\n",
    "print(\"Q3 of weight\", wt_Q3)\n",
    "print(\"IQR of weight\", wt_IQR)"
   ]
  },
  {
   "cell_type": "code",
   "execution_count": 12,
   "metadata": {},
   "outputs": [
    {
     "data": {
      "image/png": "[encoded data removed]",
      "text/plain": [
       "<Figure size 432x288 with 1 Axes>"
      ]
     },
     "metadata": {
      "needs_background": "light"
     },
     "output_type": "display_data"
    }
   ],
   "source": [
    "# Boxplot\n",
    "plt.boxplot(df['weight'])\n",
    "plt.title(\"Boxplot\")\n",
    "plt.ylabel(\"weights\")\n",
    "plt.show()"
   ]
  },
  {
   "cell_type": "code",
   "execution_count": 13,
   "metadata": {},
   "outputs": [
    {
     "data": {
      "image/png": "[encoded data removed]",
      "text/plain": [
       "<Figure size 432x288 with 1 Axes>"
      ]
     },
     "metadata": {
      "needs_background": "light"
     },
     "output_type": "display_data"
    }
   ],
   "source": [
    "# Boxplot\n",
    "plt.boxplot(df['height'])\n",
    "plt.title(\"Boxplot\")\n",
    "plt.ylabel(\"height\")\n",
    "plt.show()"
   ]
  },
  {
   "cell_type": "code",
   "execution_count": 14,
   "metadata": {},
   "outputs": [
    {
     "data": {
      "text/plain": [
       "Text(0.5, 1.0, 'Symmetrical distribution')"
      ]
     },
     "execution_count": 14,
     "metadata": {},
     "output_type": "execute_result"
    },
    {
     "data": {
      "image/png": "[encoded data removed]",
      "text/plain": [
       "<Figure size 432x288 with 1 Axes>"
      ]
     },
     "metadata": {
      "needs_background": "light"
     },
     "output_type": "display_data"
    }
   ],
   "source": [
    "#import seaborn package\n",
    "import seaborn as sns\n",
    "#genrating 100 random numbers which follows normal distribution\n",
    "x = np.random.randn(100)\n",
    "sns.distplot(x)\n",
    "plt.ylabel(\"Density\")\n",
    "plt.title(\"Symmetrical distribution\")"
   ]
  },
  {
   "cell_type": "code",
   "execution_count": 15,
   "metadata": {},
   "outputs": [
    {
     "data": {
      "text/plain": [
       "Text(0.5, 1.0, 'Negitively skewed plot')"
      ]
     },
     "execution_count": 15,
     "metadata": {},
     "output_type": "execute_result"
    },
    {
     "data": {
      "image/png": "[encoded data removed]",
      "text/plain": [
       "<Figure size 432x288 with 1 Axes>"
      ]
     },
     "metadata": {
      "needs_background": "light"
     },
     "output_type": "display_data"
    }
   ],
   "source": [
    "#lets include few extreme small data points in x and check the distribtion\n",
    "x[97:] = [-15, -10, -5]\n",
    "sns.distplot(x)\n",
    "plt.ylabel(\"Density\")\n",
    "plt.title(\"Negitively skewed plot\")"
   ]
  },
  {
   "cell_type": "code",
   "execution_count": 16,
   "metadata": {},
   "outputs": [
    {
     "data": {
      "text/plain": [
       "Text(0.5, 1.0, 'Positively skewed plot')"
      ]
     },
     "execution_count": 16,
     "metadata": {},
     "output_type": "execute_result"
    },
    {
     "data": {
      "image/png": "[encoded data removed]",
      "text/plain": [
       "<Figure size 432x288 with 1 Axes>"
      ]
     },
     "metadata": {
      "needs_background": "light"
     },
     "output_type": "display_data"
    }
   ],
   "source": [
    "#lets include few extrem large data points in x and check the distribution\n",
    "x[97:] = [15, 10, 5]\n",
    "sns.distplot(x)\n",
    "plt.ylabel(\"Density\")\n",
    "plt.title(\"Positively skewed plot\")"
   ]
  }
 ],
 "metadata": {
  "kernelspec": {
   "display_name": "Python 3",
   "language": "python",
   "name": "python3"
  },
  "language_info": {
   "codemirror_mode": {
    "name": "ipython",
    "version": 3
   },
   "file_extension": ".py",
   "mimetype": "text/x-python",
   "name": "python",
   "nbconvert_exporter": "python",
   "pygments_lexer": "ipython3",
   "version": "3.6.8"
  }
 },
 "nbformat": 4,
 "nbformat_minor": 2
}
