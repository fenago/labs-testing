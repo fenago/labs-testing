{
  "nbformat": 4,
  "nbformat_minor": 0,
  "metadata": {
    "colab": {
      "name": "Chapter 4.ipynb",
      "provenance": [],
      "collapsed_sections": []
    },
    "kernelspec": {
      "name": "python3",
      "display_name": "Python 3"
    }
  },
  "cells": [
    {
      "cell_type": "code",
      "metadata": {
        "id": "Ka7UOD10KqmZ",
        "colab": {
          "base_uri": "https://localhost:8080/"
        },
        "outputId": "008d8749-7629-498a-800b-81d878a4692f"
      },
      "source": [
        "#loading the packages\r\n",
        "import pandas as pd\r\n",
        "import matplotlib.pyplot as plt\r\n",
        "import seaborn as sns\r\n",
        "import numpy as np\r\n",
        "%matplotlib inline\r\n",
        "import scipy.stats as stats\r\n",
        "import statsmodels.api as sm\r\n",
        "from statsmodels.formula.api import ols"
      ],
      "execution_count": 1,
      "outputs": [
        {
          "output_type": "stream",
          "text": [
            "/usr/local/lib/python3.6/dist-packages/statsmodels/tools/_testing.py:19: FutureWarning: pandas.util.testing is deprecated. Use the functions in the public API at pandas.testing instead.\n",
            "  import pandas.util.testing as tm\n"
          ],
          "name": "stderr"
        }
      ]
    },
    {
      "cell_type": "code",
      "metadata": {
        "id": "eb_b2b-9NY6P"
      },
      "source": [
        "#importing the data\r\n",
        "MTcars = pd.read_csv(\"/content/drive/MyDrive/Datasets/mtcars.csv\", sep=\",\")"
      ],
      "execution_count": 2,
      "outputs": []
    },
    {
      "cell_type": "code",
      "metadata": {
        "colab": {
          "base_uri": "https://localhost:8080/"
        },
        "id": "tKAxaPDpJy8q",
        "outputId": "98f09ac4-e29c-4eb7-c33c-81292e52c9b5"
      },
      "source": [
        "MTcars.info()"
      ],
      "execution_count": 14,
      "outputs": [
        {
          "output_type": "stream",
          "text": [
            "<class 'pandas.core.frame.DataFrame'>\n",
            "RangeIndex: 32 entries, 0 to 31\n",
            "Data columns (total 12 columns):\n",
            " #   Column  Non-Null Count  Dtype  \n",
            "---  ------  --------------  -----  \n",
            " 0   model   32 non-null     object \n",
            " 1   mpg     32 non-null     float64\n",
            " 2   cyl     32 non-null     int64  \n",
            " 3   disp    32 non-null     float64\n",
            " 4   hp      32 non-null     int64  \n",
            " 5   drat    32 non-null     float64\n",
            " 6   wt      32 non-null     float64\n",
            " 7   qsec    32 non-null     float64\n",
            " 8   vs      32 non-null     int64  \n",
            " 9   am      32 non-null     int64  \n",
            " 10  gear    32 non-null     int64  \n",
            " 11  carb    32 non-null     int64  \n",
            "dtypes: float64(5), int64(6), object(1)\n",
            "memory usage: 3.1+ KB\n"
          ],
          "name": "stdout"
        }
      ]
    },
    {
      "cell_type": "code",
      "metadata": {
        "colab": {
          "base_uri": "https://localhost:8080/",
          "height": 206
        },
        "id": "Vlkon6NqNX-z",
        "outputId": "e7457ad8-5d67-456d-a3eb-4b82ef20179a"
      },
      "source": [
        "#examining the top five data points\r\n",
        "MTcars.head()"
      ],
      "execution_count": 32,
      "outputs": [
        {
          "output_type": "execute_result",
          "data": {
            "text/html": [
              "<div>\n",
              "<style scoped>\n",
              "    .dataframe tbody tr th:only-of-type {\n",
              "        vertical-align: middle;\n",
              "    }\n",
              "\n",
              "    .dataframe tbody tr th {\n",
              "        vertical-align: top;\n",
              "    }\n",
              "\n",
              "    .dataframe thead th {\n",
              "        text-align: right;\n",
              "    }\n",
              "</style>\n",
              "<table border=\"1\" class=\"dataframe\">\n",
              "  <thead>\n",
              "    <tr style=\"text-align: right;\">\n",
              "      <th></th>\n",
              "      <th>model</th>\n",
              "      <th>mpg</th>\n",
              "      <th>cyl</th>\n",
              "      <th>disp</th>\n",
              "      <th>hp</th>\n",
              "      <th>drat</th>\n",
              "      <th>wt</th>\n",
              "      <th>qsec</th>\n",
              "      <th>vs</th>\n",
              "      <th>am</th>\n",
              "      <th>gear</th>\n",
              "      <th>carb</th>\n",
              "    </tr>\n",
              "  </thead>\n",
              "  <tbody>\n",
              "    <tr>\n",
              "      <th>0</th>\n",
              "      <td>Mazda RX4</td>\n",
              "      <td>21.0</td>\n",
              "      <td>6</td>\n",
              "      <td>160.0</td>\n",
              "      <td>110</td>\n",
              "      <td>3.90</td>\n",
              "      <td>2.620</td>\n",
              "      <td>16.46</td>\n",
              "      <td>0</td>\n",
              "      <td>1</td>\n",
              "      <td>4</td>\n",
              "      <td>4</td>\n",
              "    </tr>\n",
              "    <tr>\n",
              "      <th>1</th>\n",
              "      <td>Mazda RX4 Wag</td>\n",
              "      <td>21.0</td>\n",
              "      <td>6</td>\n",
              "      <td>160.0</td>\n",
              "      <td>110</td>\n",
              "      <td>3.90</td>\n",
              "      <td>2.875</td>\n",
              "      <td>17.02</td>\n",
              "      <td>0</td>\n",
              "      <td>1</td>\n",
              "      <td>4</td>\n",
              "      <td>4</td>\n",
              "    </tr>\n",
              "    <tr>\n",
              "      <th>2</th>\n",
              "      <td>Datsun 710</td>\n",
              "      <td>22.8</td>\n",
              "      <td>4</td>\n",
              "      <td>108.0</td>\n",
              "      <td>93</td>\n",
              "      <td>3.85</td>\n",
              "      <td>2.320</td>\n",
              "      <td>18.61</td>\n",
              "      <td>1</td>\n",
              "      <td>1</td>\n",
              "      <td>4</td>\n",
              "      <td>1</td>\n",
              "    </tr>\n",
              "    <tr>\n",
              "      <th>3</th>\n",
              "      <td>Hornet 4 Drive</td>\n",
              "      <td>21.4</td>\n",
              "      <td>6</td>\n",
              "      <td>258.0</td>\n",
              "      <td>110</td>\n",
              "      <td>3.08</td>\n",
              "      <td>3.215</td>\n",
              "      <td>19.44</td>\n",
              "      <td>1</td>\n",
              "      <td>0</td>\n",
              "      <td>3</td>\n",
              "      <td>1</td>\n",
              "    </tr>\n",
              "    <tr>\n",
              "      <th>4</th>\n",
              "      <td>Hornet Sportabout</td>\n",
              "      <td>18.7</td>\n",
              "      <td>8</td>\n",
              "      <td>360.0</td>\n",
              "      <td>175</td>\n",
              "      <td>3.15</td>\n",
              "      <td>3.440</td>\n",
              "      <td>17.02</td>\n",
              "      <td>0</td>\n",
              "      <td>0</td>\n",
              "      <td>3</td>\n",
              "      <td>2</td>\n",
              "    </tr>\n",
              "  </tbody>\n",
              "</table>\n",
              "</div>"
            ],
            "text/plain": [
              "               model   mpg cyl   disp   hp  ...   qsec  vs  am  gear carb\n",
              "0          Mazda RX4  21.0   6  160.0  110  ...  16.46   0   1     4    4\n",
              "1      Mazda RX4 Wag  21.0   6  160.0  110  ...  17.02   0   1     4    4\n",
              "2         Datsun 710  22.8   4  108.0   93  ...  18.61   1   1     4    1\n",
              "3     Hornet 4 Drive  21.4   6  258.0  110  ...  19.44   1   0     3    1\n",
              "4  Hornet Sportabout  18.7   8  360.0  175  ...  17.02   0   0     3    2\n",
              "\n",
              "[5 rows x 12 columns]"
            ]
          },
          "metadata": {
            "tags": []
          },
          "execution_count": 32
        }
      ]
    },
    {
      "cell_type": "code",
      "metadata": {
        "id": "Jo81Ep9dPzfE"
      },
      "source": [
        "MTcars['cyl'] = MTcars['cyl'].astype('object')\r\n",
        "MTcars['vs'] = MTcars['am'].astype('object')\r\n",
        "MTcars['am'] = MTcars['am'].astype('object')\r\n",
        "MTcars['gear'] = MTcars['gear'].astype('object')\r\n",
        "MTcars['carb'] = MTcars['carb'].astype('object')"
      ],
      "execution_count": 34,
      "outputs": []
    },
    {
      "cell_type": "code",
      "metadata": {
        "colab": {
          "base_uri": "https://localhost:8080/"
        },
        "id": "4GHkfvPuV2ER",
        "outputId": "d24c455f-0eb1-4fb4-8588-7ae7d12a0eb9"
      },
      "source": [
        "MTcars.info()"
      ],
      "execution_count": 35,
      "outputs": [
        {
          "output_type": "stream",
          "text": [
            "<class 'pandas.core.frame.DataFrame'>\n",
            "RangeIndex: 32 entries, 0 to 31\n",
            "Data columns (total 12 columns):\n",
            " #   Column  Non-Null Count  Dtype  \n",
            "---  ------  --------------  -----  \n",
            " 0   model   32 non-null     object \n",
            " 1   mpg     32 non-null     float64\n",
            " 2   cyl     32 non-null     object \n",
            " 3   disp    32 non-null     float64\n",
            " 4   hp      32 non-null     int64  \n",
            " 5   drat    32 non-null     float64\n",
            " 6   wt      32 non-null     float64\n",
            " 7   qsec    32 non-null     float64\n",
            " 8   vs      32 non-null     object \n",
            " 9   am      32 non-null     object \n",
            " 10  gear    32 non-null     object \n",
            " 11  carb    32 non-null     object \n",
            "dtypes: float64(5), int64(1), object(6)\n",
            "memory usage: 3.1+ KB\n"
          ],
          "name": "stdout"
        }
      ]
    },
    {
      "cell_type": "code",
      "metadata": {
        "colab": {
          "base_uri": "https://localhost:8080/",
          "height": 238
        },
        "id": "i-LfzpwN7Vdi",
        "outputId": "f5ae5820-be5b-4e5f-9559-40fe829270b5"
      },
      "source": [
        "MTcars.describe().T"
      ],
      "execution_count": 36,
      "outputs": [
        {
          "output_type": "execute_result",
          "data": {
            "text/html": [
              "<div>\n",
              "<style scoped>\n",
              "    .dataframe tbody tr th:only-of-type {\n",
              "        vertical-align: middle;\n",
              "    }\n",
              "\n",
              "    .dataframe tbody tr th {\n",
              "        vertical-align: top;\n",
              "    }\n",
              "\n",
              "    .dataframe thead th {\n",
              "        text-align: right;\n",
              "    }\n",
              "</style>\n",
              "<table border=\"1\" class=\"dataframe\">\n",
              "  <thead>\n",
              "    <tr style=\"text-align: right;\">\n",
              "      <th></th>\n",
              "      <th>count</th>\n",
              "      <th>mean</th>\n",
              "      <th>std</th>\n",
              "      <th>min</th>\n",
              "      <th>25%</th>\n",
              "      <th>50%</th>\n",
              "      <th>75%</th>\n",
              "      <th>max</th>\n",
              "    </tr>\n",
              "  </thead>\n",
              "  <tbody>\n",
              "    <tr>\n",
              "      <th>mpg</th>\n",
              "      <td>32.0</td>\n",
              "      <td>20.090625</td>\n",
              "      <td>6.026948</td>\n",
              "      <td>10.400</td>\n",
              "      <td>15.42500</td>\n",
              "      <td>19.200</td>\n",
              "      <td>22.80</td>\n",
              "      <td>33.900</td>\n",
              "    </tr>\n",
              "    <tr>\n",
              "      <th>disp</th>\n",
              "      <td>32.0</td>\n",
              "      <td>230.721875</td>\n",
              "      <td>123.938694</td>\n",
              "      <td>71.100</td>\n",
              "      <td>120.82500</td>\n",
              "      <td>196.300</td>\n",
              "      <td>326.00</td>\n",
              "      <td>472.000</td>\n",
              "    </tr>\n",
              "    <tr>\n",
              "      <th>hp</th>\n",
              "      <td>32.0</td>\n",
              "      <td>146.687500</td>\n",
              "      <td>68.562868</td>\n",
              "      <td>52.000</td>\n",
              "      <td>96.50000</td>\n",
              "      <td>123.000</td>\n",
              "      <td>180.00</td>\n",
              "      <td>335.000</td>\n",
              "    </tr>\n",
              "    <tr>\n",
              "      <th>drat</th>\n",
              "      <td>32.0</td>\n",
              "      <td>3.596563</td>\n",
              "      <td>0.534679</td>\n",
              "      <td>2.760</td>\n",
              "      <td>3.08000</td>\n",
              "      <td>3.695</td>\n",
              "      <td>3.92</td>\n",
              "      <td>4.930</td>\n",
              "    </tr>\n",
              "    <tr>\n",
              "      <th>wt</th>\n",
              "      <td>32.0</td>\n",
              "      <td>3.217250</td>\n",
              "      <td>0.978457</td>\n",
              "      <td>1.513</td>\n",
              "      <td>2.58125</td>\n",
              "      <td>3.325</td>\n",
              "      <td>3.61</td>\n",
              "      <td>5.424</td>\n",
              "    </tr>\n",
              "    <tr>\n",
              "      <th>qsec</th>\n",
              "      <td>32.0</td>\n",
              "      <td>17.848750</td>\n",
              "      <td>1.786943</td>\n",
              "      <td>14.500</td>\n",
              "      <td>16.89250</td>\n",
              "      <td>17.710</td>\n",
              "      <td>18.90</td>\n",
              "      <td>22.900</td>\n",
              "    </tr>\n",
              "  </tbody>\n",
              "</table>\n",
              "</div>"
            ],
            "text/plain": [
              "      count        mean         std  ...      50%     75%      max\n",
              "mpg    32.0   20.090625    6.026948  ...   19.200   22.80   33.900\n",
              "disp   32.0  230.721875  123.938694  ...  196.300  326.00  472.000\n",
              "hp     32.0  146.687500   68.562868  ...  123.000  180.00  335.000\n",
              "drat   32.0    3.596563    0.534679  ...    3.695    3.92    4.930\n",
              "wt     32.0    3.217250    0.978457  ...    3.325    3.61    5.424\n",
              "qsec   32.0   17.848750    1.786943  ...   17.710   18.90   22.900\n",
              "\n",
              "[6 rows x 8 columns]"
            ]
          },
          "metadata": {
            "tags": []
          },
          "execution_count": 36
        }
      ]
    },
    {
      "cell_type": "code",
      "metadata": {
        "colab": {
          "base_uri": "https://localhost:8080/"
        },
        "id": "op7AuXxi4qb7",
        "outputId": "a91b887e-ab6f-4f4a-891a-c53f3e86c467"
      },
      "source": [
        "MTcars.groupby(['cyl'])['mpg'].mean()"
      ],
      "execution_count": 37,
      "outputs": [
        {
          "output_type": "execute_result",
          "data": {
            "text/plain": [
              "cyl\n",
              "4    26.663636\n",
              "6    19.742857\n",
              "8    15.100000\n",
              "Name: mpg, dtype: float64"
            ]
          },
          "metadata": {
            "tags": []
          },
          "execution_count": 37
        }
      ]
    },
    {
      "cell_type": "code",
      "metadata": {
        "colab": {
          "base_uri": "https://localhost:8080/",
          "height": 358
        },
        "id": "Lz51k_Kx477t",
        "outputId": "b6a46a84-1730-4dc3-d388-d04346097c4a"
      },
      "source": [
        "sns.boxplot(MTcars['cyl'], MTcars['mpg'])"
      ],
      "execution_count": 27,
      "outputs": [
        {
          "output_type": "stream",
          "text": [
            "/usr/local/lib/python3.6/dist-packages/seaborn/_decorators.py:43: FutureWarning: Pass the following variables as keyword args: x, y. From version 0.12, the only valid positional argument will be `data`, and passing other arguments without an explicit keyword will result in an error or misinterpretation.\n",
            "  FutureWarning\n"
          ],
          "name": "stderr"
        },
        {
          "output_type": "execute_result",
          "data": {
            "text/plain": [
              "<matplotlib.axes._subplots.AxesSubplot at 0x7f7768ff89e8>"
            ]
          },
          "metadata": {
            "tags": []
          },
          "execution_count": 27
        },
        {
          "output_type": "display_data",
          "data": {
            "image/png": "[encoded data removed]",
            "text/plain": [
              "<Figure size 432x288 with 1 Axes>"
            ]
          },
          "metadata": {
            "tags": [],
            "needs_background": "light"
          }
        }
      ]
    },
    {
      "cell_type": "code",
      "metadata": {
        "id": "Z-MIA8XmXBZL"
      },
      "source": [
        "model = ols('mpg ~ cyl', data=MTcars).fit()"
      ],
      "execution_count": 28,
      "outputs": []
    },
    {
      "cell_type": "code",
      "metadata": {
        "id": "6fWWfcJfmdgy",
        "colab": {
          "base_uri": "https://localhost:8080/",
          "height": 112
        },
        "outputId": "21be36ab-08e7-4972-f19a-769fa68ffb5c"
      },
      "source": [
        "avoRes = sm.stats.anova_lm(model, typ=2)\r\n",
        "avoRes"
      ],
      "execution_count": 39,
      "outputs": [
        {
          "output_type": "execute_result",
          "data": {
            "text/html": [
              "<div>\n",
              "<style scoped>\n",
              "    .dataframe tbody tr th:only-of-type {\n",
              "        vertical-align: middle;\n",
              "    }\n",
              "\n",
              "    .dataframe tbody tr th {\n",
              "        vertical-align: top;\n",
              "    }\n",
              "\n",
              "    .dataframe thead th {\n",
              "        text-align: right;\n",
              "    }\n",
              "</style>\n",
              "<table border=\"1\" class=\"dataframe\">\n",
              "  <thead>\n",
              "    <tr style=\"text-align: right;\">\n",
              "      <th></th>\n",
              "      <th>sum_sq</th>\n",
              "      <th>df</th>\n",
              "      <th>F</th>\n",
              "      <th>PR(&gt;F)</th>\n",
              "    </tr>\n",
              "  </thead>\n",
              "  <tbody>\n",
              "    <tr>\n",
              "      <th>cyl</th>\n",
              "      <td>824.784590</td>\n",
              "      <td>2.0</td>\n",
              "      <td>39.697515</td>\n",
              "      <td>4.978919e-09</td>\n",
              "    </tr>\n",
              "    <tr>\n",
              "      <th>Residual</th>\n",
              "      <td>301.262597</td>\n",
              "      <td>29.0</td>\n",
              "      <td>NaN</td>\n",
              "      <td>NaN</td>\n",
              "    </tr>\n",
              "  </tbody>\n",
              "</table>\n",
              "</div>"
            ],
            "text/plain": [
              "              sum_sq    df          F        PR(>F)\n",
              "cyl       824.784590   2.0  39.697515  4.978919e-09\n",
              "Residual  301.262597  29.0        NaN           NaN"
            ]
          },
          "metadata": {
            "tags": []
          },
          "execution_count": 39
        }
      ]
    },
    {
      "cell_type": "code",
      "metadata": {
        "colab": {
          "base_uri": "https://localhost:8080/"
        },
        "id": "lxXYcna_nXul",
        "outputId": "9b908261-f987-4741-f40b-3ab799613969"
      },
      "source": [
        ""
      ],
      "execution_count": 38,
      "outputs": [
        {
          "output_type": "stream",
          "text": [
            "              sum_sq    df          F        PR(>F)\n",
            "cyl       824.784590   2.0  39.697515  4.978919e-09\n",
            "Residual  301.262597  29.0        NaN           NaN\n"
          ],
          "name": "stdout"
        }
      ]
    },
    {
      "cell_type": "code",
      "metadata": {
        "colab": {
          "base_uri": "https://localhost:8080/",
          "height": 143
        },
        "id": "oe00qDUSwgL5",
        "outputId": "a3984d64-71d9-456c-daac-37d14bb3d863"
      },
      "source": [
        "pd.crosstab(index=MTcars['am'], columns=MTcars['cyl'],values=MTcars['mpg'], aggfunc=np.mean)"
      ],
      "execution_count": 15,
      "outputs": [
        {
          "output_type": "execute_result",
          "data": {
            "text/html": [
              "<div>\n",
              "<style scoped>\n",
              "    .dataframe tbody tr th:only-of-type {\n",
              "        vertical-align: middle;\n",
              "    }\n",
              "\n",
              "    .dataframe tbody tr th {\n",
              "        vertical-align: top;\n",
              "    }\n",
              "\n",
              "    .dataframe thead th {\n",
              "        text-align: right;\n",
              "    }\n",
              "</style>\n",
              "<table border=\"1\" class=\"dataframe\">\n",
              "  <thead>\n",
              "    <tr style=\"text-align: right;\">\n",
              "      <th>cyl</th>\n",
              "      <th>4</th>\n",
              "      <th>6</th>\n",
              "      <th>8</th>\n",
              "    </tr>\n",
              "    <tr>\n",
              "      <th>am</th>\n",
              "      <th></th>\n",
              "      <th></th>\n",
              "      <th></th>\n",
              "    </tr>\n",
              "  </thead>\n",
              "  <tbody>\n",
              "    <tr>\n",
              "      <th>0</th>\n",
              "      <td>22.900</td>\n",
              "      <td>19.125000</td>\n",
              "      <td>15.05</td>\n",
              "    </tr>\n",
              "    <tr>\n",
              "      <th>1</th>\n",
              "      <td>28.075</td>\n",
              "      <td>20.566667</td>\n",
              "      <td>15.40</td>\n",
              "    </tr>\n",
              "  </tbody>\n",
              "</table>\n",
              "</div>"
            ],
            "text/plain": [
              "cyl       4          6      8\n",
              "am                           \n",
              "0    22.900  19.125000  15.05\n",
              "1    28.075  20.566667  15.40"
            ]
          },
          "metadata": {
            "tags": []
          },
          "execution_count": 15
        }
      ]
    },
    {
      "cell_type": "code",
      "metadata": {
        "id": "Bi_GCYiBKGF7"
      },
      "source": [
        "model2 = ols('mpg ~ cyl + am', data=MTcars).fit()"
      ],
      "execution_count": 42,
      "outputs": []
    },
    {
      "cell_type": "code",
      "metadata": {
        "colab": {
          "base_uri": "https://localhost:8080/",
          "height": 143
        },
        "id": "1q6M1x5rfN0x",
        "outputId": "aa6d4cbd-2bdc-402e-fda2-5631705a1173"
      },
      "source": [
        "avoRes2 = sm.stats.anova_lm(model2, type=2)\r\n",
        "avoRes2"
      ],
      "execution_count": 43,
      "outputs": [
        {
          "output_type": "execute_result",
          "data": {
            "text/html": [
              "<div>\n",
              "<style scoped>\n",
              "    .dataframe tbody tr th:only-of-type {\n",
              "        vertical-align: middle;\n",
              "    }\n",
              "\n",
              "    .dataframe tbody tr th {\n",
              "        vertical-align: top;\n",
              "    }\n",
              "\n",
              "    .dataframe thead th {\n",
              "        text-align: right;\n",
              "    }\n",
              "</style>\n",
              "<table border=\"1\" class=\"dataframe\">\n",
              "  <thead>\n",
              "    <tr style=\"text-align: right;\">\n",
              "      <th></th>\n",
              "      <th>df</th>\n",
              "      <th>sum_sq</th>\n",
              "      <th>mean_sq</th>\n",
              "      <th>F</th>\n",
              "      <th>PR(&gt;F)</th>\n",
              "    </tr>\n",
              "  </thead>\n",
              "  <tbody>\n",
              "    <tr>\n",
              "      <th>cyl</th>\n",
              "      <td>2.0</td>\n",
              "      <td>824.784590</td>\n",
              "      <td>412.392295</td>\n",
              "      <td>43.656609</td>\n",
              "      <td>2.476881e-09</td>\n",
              "    </tr>\n",
              "    <tr>\n",
              "      <th>am</th>\n",
              "      <td>1.0</td>\n",
              "      <td>36.766919</td>\n",
              "      <td>36.766919</td>\n",
              "      <td>3.892214</td>\n",
              "      <td>5.845717e-02</td>\n",
              "    </tr>\n",
              "    <tr>\n",
              "      <th>Residual</th>\n",
              "      <td>28.0</td>\n",
              "      <td>264.495678</td>\n",
              "      <td>9.446274</td>\n",
              "      <td>NaN</td>\n",
              "      <td>NaN</td>\n",
              "    </tr>\n",
              "  </tbody>\n",
              "</table>\n",
              "</div>"
            ],
            "text/plain": [
              "            df      sum_sq     mean_sq          F        PR(>F)\n",
              "cyl        2.0  824.784590  412.392295  43.656609  2.476881e-09\n",
              "am         1.0   36.766919   36.766919   3.892214  5.845717e-02\n",
              "Residual  28.0  264.495678    9.446274        NaN           NaN"
            ]
          },
          "metadata": {
            "tags": []
          },
          "execution_count": 43
        }
      ]
    },
    {
      "cell_type": "code",
      "metadata": {
        "colab": {
          "base_uri": "https://localhost:8080/"
        },
        "id": "SwESnfoCRQ21",
        "outputId": "ff30d69d-b3c8-4cda-e2eb-89704b5eecc6"
      },
      "source": [
        "#cross table\r\n",
        "contingency_table = pd.crosstab(MTcars['am'], MTcars['cyl'])\r\n",
        "print(\"The observed values are: \")\r\n",
        "contingency_table.values"
      ],
      "execution_count": 50,
      "outputs": [
        {
          "output_type": "stream",
          "text": [
            "The observed values are: \n"
          ],
          "name": "stdout"
        },
        {
          "output_type": "execute_result",
          "data": {
            "text/plain": [
              "array([[ 3,  4, 12],\n",
              "       [ 8,  3,  2]])"
            ]
          },
          "metadata": {
            "tags": []
          },
          "execution_count": 50
        }
      ]
    },
    {
      "cell_type": "code",
      "metadata": {
        "id": "xomFx1SckcBr"
      },
      "source": [
        "from scipy.stats import chi2_contingency"
      ],
      "execution_count": 51,
      "outputs": []
    },
    {
      "cell_type": "code",
      "metadata": {
        "colab": {
          "base_uri": "https://localhost:8080/"
        },
        "id": "vqc0zhFwniov",
        "outputId": "775929c4-bbf1-4cc0-aba0-758c3df1d4b0"
      },
      "source": [
        "chi2,p,df,exp = chi2_contingency(contingency_table)\r\n",
        "print(\"P-value: \", p)\r\n",
        "\r\n",
        "if p < 0.05:\r\n",
        "  print(\"Reject Ho, There is a significant relationship between two categorical variables\")\r\n",
        "else:\r\n",
        "  print(\"Accept Ho, There is no relationship between two categorical variables\")"
      ],
      "execution_count": 54,
      "outputs": [
        {
          "output_type": "stream",
          "text": [
            "P-value:  0.012646605046107276\n",
            "Reject Ho, There is a significant relationship between two categorical variables\n"
          ],
          "name": "stdout"
        }
      ]
    },
    {
      "cell_type": "code",
      "metadata": {
        "colab": {
          "base_uri": "https://localhost:8080/",
          "height": 112
        },
        "id": "kx-mkbXa14lL",
        "outputId": "10f760ff-5a09-42a8-9e05-ad2472d0bfd8"
      },
      "source": [
        "model_1 = ols('mpg ~ gear', data=MTcars).fit()\r\n",
        "\r\n",
        "avoRes_1 = sm.stats.anova_lm(model, typ=2)\r\n",
        "avoRes_1"
      ],
      "execution_count": 58,
      "outputs": [
        {
          "output_type": "execute_result",
          "data": {
            "text/html": [
              "<div>\n",
              "<style scoped>\n",
              "    .dataframe tbody tr th:only-of-type {\n",
              "        vertical-align: middle;\n",
              "    }\n",
              "\n",
              "    .dataframe tbody tr th {\n",
              "        vertical-align: top;\n",
              "    }\n",
              "\n",
              "    .dataframe thead th {\n",
              "        text-align: right;\n",
              "    }\n",
              "</style>\n",
              "<table border=\"1\" class=\"dataframe\">\n",
              "  <thead>\n",
              "    <tr style=\"text-align: right;\">\n",
              "      <th></th>\n",
              "      <th>sum_sq</th>\n",
              "      <th>df</th>\n",
              "      <th>F</th>\n",
              "      <th>PR(&gt;F)</th>\n",
              "    </tr>\n",
              "  </thead>\n",
              "  <tbody>\n",
              "    <tr>\n",
              "      <th>cyl</th>\n",
              "      <td>824.784590</td>\n",
              "      <td>2.0</td>\n",
              "      <td>39.697515</td>\n",
              "      <td>4.978919e-09</td>\n",
              "    </tr>\n",
              "    <tr>\n",
              "      <th>Residual</th>\n",
              "      <td>301.262597</td>\n",
              "      <td>29.0</td>\n",
              "      <td>NaN</td>\n",
              "      <td>NaN</td>\n",
              "    </tr>\n",
              "  </tbody>\n",
              "</table>\n",
              "</div>"
            ],
            "text/plain": [
              "              sum_sq    df          F        PR(>F)\n",
              "cyl       824.784590   2.0  39.697515  4.978919e-09\n",
              "Residual  301.262597  29.0        NaN           NaN"
            ]
          },
          "metadata": {
            "tags": []
          },
          "execution_count": 58
        }
      ]
    },
    {
      "cell_type": "code",
      "metadata": {
        "colab": {
          "base_uri": "https://localhost:8080/",
          "height": 143
        },
        "id": "TLd6jxyq11eg",
        "outputId": "a776ed7d-432e-45b5-d851-0d08690959e1"
      },
      "source": [
        "model2 = ols('mpg ~ gear + vs', data=MTcars).fit()\r\n",
        "\r\n",
        "avoRes2 = sm.stats.anova_lm(model2, type=2)\r\n",
        "avoRes2"
      ],
      "execution_count": 59,
      "outputs": [
        {
          "output_type": "execute_result",
          "data": {
            "text/html": [
              "<div>\n",
              "<style scoped>\n",
              "    .dataframe tbody tr th:only-of-type {\n",
              "        vertical-align: middle;\n",
              "    }\n",
              "\n",
              "    .dataframe tbody tr th {\n",
              "        vertical-align: top;\n",
              "    }\n",
              "\n",
              "    .dataframe thead th {\n",
              "        text-align: right;\n",
              "    }\n",
              "</style>\n",
              "<table border=\"1\" class=\"dataframe\">\n",
              "  <thead>\n",
              "    <tr style=\"text-align: right;\">\n",
              "      <th></th>\n",
              "      <th>df</th>\n",
              "      <th>sum_sq</th>\n",
              "      <th>mean_sq</th>\n",
              "      <th>F</th>\n",
              "      <th>PR(&gt;F)</th>\n",
              "    </tr>\n",
              "  </thead>\n",
              "  <tbody>\n",
              "    <tr>\n",
              "      <th>gear</th>\n",
              "      <td>2.0</td>\n",
              "      <td>483.243188</td>\n",
              "      <td>241.621594</td>\n",
              "      <td>11.869082</td>\n",
              "      <td>0.000185</td>\n",
              "    </tr>\n",
              "    <tr>\n",
              "      <th>vs</th>\n",
              "      <td>1.0</td>\n",
              "      <td>72.801667</td>\n",
              "      <td>72.801667</td>\n",
              "      <td>3.576208</td>\n",
              "      <td>0.069001</td>\n",
              "    </tr>\n",
              "    <tr>\n",
              "      <th>Residual</th>\n",
              "      <td>28.0</td>\n",
              "      <td>570.002333</td>\n",
              "      <td>20.357226</td>\n",
              "      <td>NaN</td>\n",
              "      <td>NaN</td>\n",
              "    </tr>\n",
              "  </tbody>\n",
              "</table>\n",
              "</div>"
            ],
            "text/plain": [
              "            df      sum_sq     mean_sq          F    PR(>F)\n",
              "gear       2.0  483.243188  241.621594  11.869082  0.000185\n",
              "vs         1.0   72.801667   72.801667   3.576208  0.069001\n",
              "Residual  28.0  570.002333   20.357226        NaN       NaN"
            ]
          },
          "metadata": {
            "tags": []
          },
          "execution_count": 59
        }
      ]
    },
    {
      "cell_type": "code",
      "metadata": {
        "colab": {
          "base_uri": "https://localhost:8080/"
        },
        "id": "Ke8C1a1b2_pY",
        "outputId": "c08920c6-d9e4-46fa-9a0f-882f721df92f"
      },
      "source": [
        "#cross table\r\n",
        "contingency_tab = pd.crosstab(MTcars['gear'], MTcars['vs'])\r\n",
        "print(\"The observed values are: \")\r\n",
        "contingency_tab.values"
      ],
      "execution_count": 60,
      "outputs": [
        {
          "output_type": "stream",
          "text": [
            "The observed values are: \n"
          ],
          "name": "stdout"
        },
        {
          "output_type": "execute_result",
          "data": {
            "text/plain": [
              "array([[15,  0],\n",
              "       [ 4,  8],\n",
              "       [ 0,  5]])"
            ]
          },
          "metadata": {
            "tags": []
          },
          "execution_count": 60
        }
      ]
    },
    {
      "cell_type": "code",
      "metadata": {
        "colab": {
          "base_uri": "https://localhost:8080/"
        },
        "id": "Wps8E0NS2yYb",
        "outputId": "1ff218f2-a7cf-4fb0-f6e0-780b81b3f3de"
      },
      "source": [
        "chi,p,df,expe = chi2_contingency(contingency_tab)\r\n",
        "print(\"P-value: \", p)"
      ],
      "execution_count": 63,
      "outputs": [
        {
          "output_type": "stream",
          "text": [
            "P-value:  2.8308889589756233e-05\n"
          ],
          "name": "stdout"
        }
      ]
    }
  ]
}